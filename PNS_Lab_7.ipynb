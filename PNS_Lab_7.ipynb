{
  "nbformat": 4,
  "nbformat_minor": 0,
  "metadata": {
    "colab": {
      "provenance": [],
      "authorship_tag": "ABX9TyMDqbER//GMbUaLlsn2bblF",
      "include_colab_link": true
    },
    "kernelspec": {
      "name": "python3",
      "display_name": "Python 3"
    },
    "language_info": {
      "name": "python"
    }
  },
  "cells": [
    {
      "cell_type": "markdown",
      "metadata": {
        "id": "view-in-github",
        "colab_type": "text"
      },
      "source": [
        "<a href=\"https://colab.research.google.com/github/2303A52247/PNS/blob/main/PNS_Lab_7.ipynb\" target=\"_parent\"><img src=\"https://colab.research.google.com/assets/colab-badge.svg\" alt=\"Open In Colab\"/></a>"
      ]
    },
    {
      "cell_type": "code",
      "execution_count": 7,
      "metadata": {
        "colab": {
          "base_uri": "https://localhost:8080/"
        },
        "id": "3ax02dmjvMbL",
        "outputId": "b5441289-3a12-4d9c-ccfb-9dc38e087586"
      },
      "outputs": [
        {
          "output_type": "stream",
          "name": "stdout",
          "text": [
            "Sample Mean: 27466.67\n",
            "Sample Standard Deviation: 3748.65\n"
          ]
        }
      ],
      "source": [
        "import numpy as np\n",
        "from scipy import stats\n",
        "sample_data = [25000, 31000, 20000, 28000, 29500, 32000, 21000, 30500, 27000, 28500, 30000, 23000, 31000, 26000, 29500]\n",
        "sample_mean = np.mean(sample_data)\n",
        "sample_std = np.std(sample_data, ddof=1)\n",
        "print(f\"Sample Mean: {sample_mean:.2f}\")\n",
        "print(f\"Sample Standard Deviation: {sample_std:.2f}\")"
      ]
    },
    {
      "cell_type": "code",
      "source": [
        "sample_data = [25000, 31000, 20000, 28000, 29500, 32000, 21000, 30500, 27000, 28500, 30000, 23000, 31000, 26000, 29500]\n",
        "n, mean, std = len(sample_data), np.mean(sample_data), np.std(sample_data, ddof=1)\n",
        "margin = stats.t.ppf(0.975, df=n-1) * (std / np.sqrt(n))\n",
        "print(f\"95% Confidence Interval: ({mean - margin:.2f}, {mean + margin:.2f})\")"
      ],
      "metadata": {
        "colab": {
          "base_uri": "https://localhost:8080/"
        },
        "id": "1YSKB40BwB66",
        "outputId": "61a429f0-e0a8-4332-f6e7-0f627ccd54f4"
      },
      "execution_count": 8,
      "outputs": [
        {
          "output_type": "stream",
          "name": "stdout",
          "text": [
            "95% Confidence Interval: (25390.73, 29542.60)\n"
          ]
        }
      ]
    },
    {
      "cell_type": "code",
      "source": [
        "t_critical = stats.t.ppf(0.975, df=n-1)\n",
        "margin_of_error = t_critical * (sample_std / np.sqrt(n))\n",
        "confidence_interval = (sample_mean - margin_of_error, sample_mean + margin_of_error)\n",
        "claimed_mean = 35000\n",
        "reject_null = claimed_mean < confidence_interval[0] or claimed_mean > confidence_interval[1]\n",
        "print(f\"Reject Null Hypothesis: {'Yes' if reject_null else 'No'}\")"
      ],
      "metadata": {
        "colab": {
          "base_uri": "https://localhost:8080/"
        },
        "id": "vSSBjfqswNBx",
        "outputId": "1db93b93-de00-46d4-b7e1-6d4dd9c3c784"
      },
      "execution_count": 11,
      "outputs": [
        {
          "output_type": "stream",
          "name": "stdout",
          "text": [
            "Reject Null Hypothesis: Yes\n"
          ]
        }
      ]
    }
  ]
}