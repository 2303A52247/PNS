{
  "nbformat": 4,
  "nbformat_minor": 0,
  "metadata": {
    "colab": {
      "provenance": [],
      "authorship_tag": "ABX9TyM8QxqCX4NTj0LSjA01Ox6M",
      "include_colab_link": true
    },
    "kernelspec": {
      "name": "python3",
      "display_name": "Python 3"
    },
    "language_info": {
      "name": "python"
    }
  },
  "cells": [
    {
      "cell_type": "markdown",
      "metadata": {
        "id": "view-in-github",
        "colab_type": "text"
      },
      "source": [
        "<a href=\"https://colab.research.google.com/github/2303A52247/PNS/blob/main/PNS_Lab_1.ipynb\" target=\"_parent\"><img src=\"https://colab.research.google.com/assets/colab-badge.svg\" alt=\"Open In Colab\"/></a>"
      ]
    },
    {
      "cell_type": "code",
      "execution_count": 1,
      "metadata": {
        "colab": {
          "base_uri": "https://localhost:8080/"
        },
        "id": "lJEv_GnqrTBg",
        "outputId": "0c240d99-02ad-41bd-a3f1-84b712f51821"
      },
      "outputs": [
        {
          "output_type": "stream",
          "name": "stdout",
          "text": [
            "[ 1  2 34  6 32 14 65  7]\n",
            "1\n",
            "34\n"
          ]
        }
      ],
      "source": [
        "import numpy as np\n",
        "arr=np.array([1,2,34,6,32,14,65,7])\n",
        "print(arr)\n",
        "print(arr[0])\n",
        "print(arr[2])"
      ]
    },
    {
      "cell_type": "code",
      "source": [
        "aa=[[1,2,3,4],[4,2,3,6]]\n",
        "A=np.array([[1,2,3,4],[4,2,3,6]])\n",
        "print(A)\n",
        "print(type(A))\n",
        "print(type(arr))"
      ],
      "metadata": {
        "colab": {
          "base_uri": "https://localhost:8080/"
        },
        "id": "ObFb5_-prZe-",
        "outputId": "8241b4d9-e4d0-4e35-fac3-437a67218bf9"
      },
      "execution_count": 2,
      "outputs": [
        {
          "output_type": "stream",
          "name": "stdout",
          "text": [
            "[[1 2 3 4]\n",
            " [4 2 3 6]]\n",
            "<class 'numpy.ndarray'>\n",
            "<class 'numpy.ndarray'>\n"
          ]
        }
      ]
    },
    {
      "cell_type": "code",
      "source": [
        "np.ndim(arr)\n",
        "np.ndim(A)\n",
        "print(np.size(arr))\n",
        "print(np.size(A))\n",
        "print(np.shape(arr))"
      ],
      "metadata": {
        "colab": {
          "base_uri": "https://localhost:8080/"
        },
        "id": "OA-xsHgorc_I",
        "outputId": "849f9c08-b046-4b85-9b77-8570ae6d2773"
      },
      "execution_count": 3,
      "outputs": [
        {
          "output_type": "stream",
          "name": "stdout",
          "text": [
            "8\n",
            "8\n",
            "(8,)\n"
          ]
        }
      ]
    },
    {
      "cell_type": "code",
      "source": [
        "print(np.shape(A))\n",
        "A=np.array([[1,2,3],[3,4,5],[4,5,6]])\n",
        "print(A)\n",
        "print(A[0,:])\n",
        "print(A[1,:])\n",
        "print(A[2,:])\n",
        "print(A[:,0])\n",
        "print(A[:,1])\n",
        "print(A[:,2])\n",
        "print(A[2,1])"
      ],
      "metadata": {
        "colab": {
          "base_uri": "https://localhost:8080/"
        },
        "id": "JqGyNf6CrgQk",
        "outputId": "370bc92e-5c64-4466-f6fb-290426d4e73b"
      },
      "execution_count": 4,
      "outputs": [
        {
          "output_type": "stream",
          "name": "stdout",
          "text": [
            "(2, 4)\n",
            "[[1 2 3]\n",
            " [3 4 5]\n",
            " [4 5 6]]\n",
            "[1 2 3]\n",
            "[3 4 5]\n",
            "[4 5 6]\n",
            "[1 3 4]\n",
            "[2 4 5]\n",
            "[3 5 6]\n",
            "5\n"
          ]
        }
      ]
    },
    {
      "cell_type": "code",
      "source": [
        "import pandas as pd\n",
        "Dataset={\n",
        "\"State\": ['Andhra Pradesh', 'Maharashtra', 'Karnataka', 'Kerala', 'Tamil Nadu'],\n",
        "\"Capital\": ['Hyderabad', 'Mumbai', 'Bengaluru', 'Trivandrum', 'Chennai'],\n",
        "\"Literacy %\": [89, 77, 82, 97,85],\n",
        "\"Avg High Temp(c)\": [33, 30, 29, 31, 32 ]}\n",
        "df = pd.DataFrame(Dataset)\n",
        "print(df)\n",
        "print(df.sort_values('Literacy %', ascending=False))\n",
        "print(df[['Capital']])\n",
        "print(df[['State', 'Capital']])\n",
        "print(df.loc[2])\n",
        "print(df.iloc[1,2])\n",
        "print(df.loc[1,'Literacy %'])\n",
        "a={\"Distance\":[15, 13, 16, 16, 15, 16, 17, 14, 15, 16, 16,17, 14, 17, 17, 16, 14, 15, 16, 17, 14, 16, 15, 17, 1]}\n",
        "df=pd.DataFrame(a)\n",
        "print(df)\n",
        "print('The number of elements in the column is =',df['Distance'].size)"
      ],
      "metadata": {
        "colab": {
          "base_uri": "https://localhost:8080/"
        },
        "id": "ZFiIkbcerkda",
        "outputId": "180e5cd9-a5ce-4051-8b68-d9aba83aa59b"
      },
      "execution_count": 5,
      "outputs": [
        {
          "output_type": "stream",
          "name": "stdout",
          "text": [
            "            State     Capital  Literacy %  Avg High Temp(c)\n",
            "0  Andhra Pradesh   Hyderabad          89                33\n",
            "1     Maharashtra      Mumbai          77                30\n",
            "2       Karnataka   Bengaluru          82                29\n",
            "3          Kerala  Trivandrum          97                31\n",
            "4      Tamil Nadu     Chennai          85                32\n",
            "            State     Capital  Literacy %  Avg High Temp(c)\n",
            "3          Kerala  Trivandrum          97                31\n",
            "0  Andhra Pradesh   Hyderabad          89                33\n",
            "4      Tamil Nadu     Chennai          85                32\n",
            "2       Karnataka   Bengaluru          82                29\n",
            "1     Maharashtra      Mumbai          77                30\n",
            "      Capital\n",
            "0   Hyderabad\n",
            "1      Mumbai\n",
            "2   Bengaluru\n",
            "3  Trivandrum\n",
            "4     Chennai\n",
            "            State     Capital\n",
            "0  Andhra Pradesh   Hyderabad\n",
            "1     Maharashtra      Mumbai\n",
            "2       Karnataka   Bengaluru\n",
            "3          Kerala  Trivandrum\n",
            "4      Tamil Nadu     Chennai\n",
            "State               Karnataka\n",
            "Capital             Bengaluru\n",
            "Literacy %                 82\n",
            "Avg High Temp(c)           29\n",
            "Name: 2, dtype: object\n",
            "77\n",
            "77\n",
            "    Distance\n",
            "0         15\n",
            "1         13\n",
            "2         16\n",
            "3         16\n",
            "4         15\n",
            "5         16\n",
            "6         17\n",
            "7         14\n",
            "8         15\n",
            "9         16\n",
            "10        16\n",
            "11        17\n",
            "12        14\n",
            "13        17\n",
            "14        17\n",
            "15        16\n",
            "16        14\n",
            "17        15\n",
            "18        16\n",
            "19        17\n",
            "20        14\n",
            "21        16\n",
            "22        15\n",
            "23        17\n",
            "24         1\n",
            "The number of elements in the column is = 25\n"
          ]
        }
      ]
    }
  ]
}